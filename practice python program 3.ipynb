{
 "cells": [
  {
   "cell_type": "code",
   "execution_count": 3,
   "id": "412faf66",
   "metadata": {},
   "outputs": [],
   "source": [
    "s3 = \"ineuron\""
   ]
  },
  {
   "cell_type": "code",
   "execution_count": 4,
   "id": "030e93dd",
   "metadata": {},
   "outputs": [
    {
     "data": {
      "text/plain": [
       "'ineuron'"
      ]
     },
     "execution_count": 4,
     "metadata": {},
     "output_type": "execute_result"
    }
   ],
   "source": [
    "s3"
   ]
  },
  {
   "cell_type": "code",
   "execution_count": 5,
   "id": "ef7d37eb",
   "metadata": {},
   "outputs": [
    {
     "data": {
      "text/plain": [
       "'norueni'"
      ]
     },
     "execution_count": 5,
     "metadata": {},
     "output_type": "execute_result"
    }
   ],
   "source": [
    "s3[::-1]"
   ]
  },
  {
   "cell_type": "code",
   "execution_count": 6,
   "id": "eae21e38",
   "metadata": {},
   "outputs": [
    {
     "data": {
      "text/plain": [
       "''"
      ]
     },
     "execution_count": 6,
     "metadata": {},
     "output_type": "execute_result"
    }
   ],
   "source": [
    "s3[-2:-7:1]"
   ]
  },
  {
   "cell_type": "code",
   "execution_count": 7,
   "id": "ec6273e2",
   "metadata": {},
   "outputs": [
    {
     "data": {
      "text/plain": [
       "'ineur'"
      ]
     },
     "execution_count": 7,
     "metadata": {},
     "output_type": "execute_result"
    }
   ],
   "source": [
    "s3[-7:-2:1]"
   ]
  },
  {
   "cell_type": "code",
   "execution_count": 8,
   "id": "e4c24cd6",
   "metadata": {},
   "outputs": [],
   "source": [
    "s = \"sudhanshu\""
   ]
  },
  {
   "cell_type": "code",
   "execution_count": 9,
   "id": "16ce6963",
   "metadata": {},
   "outputs": [
    {
     "data": {
      "text/plain": [
       "''"
      ]
     },
     "execution_count": 9,
     "metadata": {},
     "output_type": "execute_result"
    }
   ],
   "source": [
    "s[5:0]"
   ]
  },
  {
   "cell_type": "code",
   "execution_count": 10,
   "id": "aad23ecb",
   "metadata": {},
   "outputs": [
    {
     "data": {
      "text/plain": [
       "'ineuro'"
      ]
     },
     "execution_count": 10,
     "metadata": {},
     "output_type": "execute_result"
    }
   ],
   "source": [
    "s3[-7:-1:1]"
   ]
  },
  {
   "cell_type": "code",
   "execution_count": 11,
   "id": "1bce7961",
   "metadata": {},
   "outputs": [
    {
     "data": {
      "text/plain": [
       "''"
      ]
     },
     "execution_count": 11,
     "metadata": {},
     "output_type": "execute_result"
    }
   ],
   "source": [
    "s3[-1:-7:1]"
   ]
  },
  {
   "cell_type": "code",
   "execution_count": 12,
   "id": "1f994b04",
   "metadata": {},
   "outputs": [
    {
     "data": {
      "text/plain": [
       "'ineuron'"
      ]
     },
     "execution_count": 12,
     "metadata": {},
     "output_type": "execute_result"
    }
   ],
   "source": [
    "s3"
   ]
  },
  {
   "cell_type": "code",
   "execution_count": 13,
   "id": "5b34fcf2",
   "metadata": {},
   "outputs": [
    {
     "data": {
      "text/plain": [
       "''"
      ]
     },
     "execution_count": 13,
     "metadata": {},
     "output_type": "execute_result"
    }
   ],
   "source": [
    "s3[-7:0:1]"
   ]
  },
  {
   "cell_type": "code",
   "execution_count": 14,
   "id": "b21f99b8",
   "metadata": {},
   "outputs": [
    {
     "data": {
      "text/plain": [
       "''"
      ]
     },
     "execution_count": 14,
     "metadata": {},
     "output_type": "execute_result"
    }
   ],
   "source": [
    "s3[:-1:-1]"
   ]
  },
  {
   "cell_type": "code",
   "execution_count": 16,
   "id": "7c8d3423",
   "metadata": {},
   "outputs": [
    {
     "data": {
      "text/plain": [
       "'sudhanshu1'"
      ]
     },
     "execution_count": 16,
     "metadata": {},
     "output_type": "execute_result"
    }
   ],
   "source": [
    "s + \"1\""
   ]
  },
  {
   "cell_type": "code",
   "execution_count": 17,
   "id": "df13aaeb",
   "metadata": {},
   "outputs": [
    {
     "data": {
      "text/plain": [
       "'sudhanshu2'"
      ]
     },
     "execution_count": 17,
     "metadata": {},
     "output_type": "execute_result"
    }
   ],
   "source": [
    "s + \"2\""
   ]
  },
  {
   "cell_type": "code",
   "execution_count": 18,
   "id": "2955de64",
   "metadata": {},
   "outputs": [
    {
     "data": {
      "text/plain": [
       "'sudhanshusudhanshu'"
      ]
     },
     "execution_count": 18,
     "metadata": {},
     "output_type": "execute_result"
    }
   ],
   "source": [
    "s + s"
   ]
  },
  {
   "cell_type": "code",
   "execution_count": 19,
   "id": "0def9e7a",
   "metadata": {},
   "outputs": [
    {
     "data": {
      "text/plain": [
       "'sudhanshu3'"
      ]
     },
     "execution_count": 19,
     "metadata": {},
     "output_type": "execute_result"
    }
   ],
   "source": [
    "s + '3'"
   ]
  },
  {
   "cell_type": "code",
   "execution_count": 21,
   "id": "ecc27156",
   "metadata": {},
   "outputs": [
    {
     "data": {
      "text/plain": [
       "'sudhanshusudhanshusudhanshu'"
      ]
     },
     "execution_count": 21,
     "metadata": {},
     "output_type": "execute_result"
    }
   ],
   "source": [
    "s+s+s"
   ]
  },
  {
   "cell_type": "code",
   "execution_count": 23,
   "id": "b96286bd",
   "metadata": {},
   "outputs": [
    {
     "data": {
      "text/plain": [
       "'sudhanshu1'"
      ]
     },
     "execution_count": 23,
     "metadata": {},
     "output_type": "execute_result"
    }
   ],
   "source": [
    "s + str(1)"
   ]
  },
  {
   "cell_type": "code",
   "execution_count": 24,
   "id": "204beb5b",
   "metadata": {},
   "outputs": [
    {
     "data": {
      "text/plain": [
       "9"
      ]
     },
     "execution_count": 24,
     "metadata": {},
     "output_type": "execute_result"
    }
   ],
   "source": [
    "len(s)"
   ]
  },
  {
   "cell_type": "code",
   "execution_count": 25,
   "id": "0f1fe61e",
   "metadata": {},
   "outputs": [
    {
     "data": {
      "text/plain": [
       "7"
      ]
     },
     "execution_count": 25,
     "metadata": {},
     "output_type": "execute_result"
    }
   ],
   "source": [
    "len(s3)"
   ]
  },
  {
   "cell_type": "code",
   "execution_count": 29,
   "id": "0f50083d",
   "metadata": {},
   "outputs": [
    {
     "data": {
      "text/plain": [
       "'sudhanshusudhanshu'"
      ]
     },
     "execution_count": 29,
     "metadata": {},
     "output_type": "execute_result"
    }
   ],
   "source": [
    "s*2"
   ]
  },
  {
   "cell_type": "code",
   "execution_count": 32,
   "id": "1b4e5a0a",
   "metadata": {},
   "outputs": [
    {
     "data": {
      "text/plain": [
       "'sudhanshu2'"
      ]
     },
     "execution_count": 32,
     "metadata": {},
     "output_type": "execute_result"
    }
   ],
   "source": [
    "s + '2'"
   ]
  },
  {
   "cell_type": "code",
   "execution_count": 34,
   "id": "e6e3a26b",
   "metadata": {},
   "outputs": [
    {
     "data": {
      "text/plain": [
       "'sudhanshu4'"
      ]
     },
     "execution_count": 34,
     "metadata": {},
     "output_type": "execute_result"
    }
   ],
   "source": [
    "s +str(4)"
   ]
  },
  {
   "cell_type": "code",
   "execution_count": 35,
   "id": "cc8ded43",
   "metadata": {},
   "outputs": [
    {
     "data": {
      "text/plain": [
       "'sudhanshusudhanshusudhanshusudhanshusudhanshusudhanshu'"
      ]
     },
     "execution_count": 35,
     "metadata": {},
     "output_type": "execute_result"
    }
   ],
   "source": [
    "s * 6"
   ]
  },
  {
   "cell_type": "code",
   "execution_count": 38,
   "id": "d47ae643",
   "metadata": {},
   "outputs": [
    {
     "data": {
      "text/plain": [
       "2"
      ]
     },
     "execution_count": 38,
     "metadata": {},
     "output_type": "execute_result"
    }
   ],
   "source": [
    "s.count('s')"
   ]
  },
  {
   "cell_type": "code",
   "execution_count": 39,
   "id": "ffc1230a",
   "metadata": {},
   "outputs": [
    {
     "data": {
      "text/plain": [
       "2"
      ]
     },
     "execution_count": 39,
     "metadata": {},
     "output_type": "execute_result"
    }
   ],
   "source": [
    "s.count('u')"
   ]
  },
  {
   "cell_type": "code",
   "execution_count": 40,
   "id": "867ebd89",
   "metadata": {},
   "outputs": [
    {
     "data": {
      "text/plain": [
       "1"
      ]
     },
     "execution_count": 40,
     "metadata": {},
     "output_type": "execute_result"
    }
   ],
   "source": [
    "s.count('d')"
   ]
  },
  {
   "cell_type": "code",
   "execution_count": 41,
   "id": "06313cfe",
   "metadata": {},
   "outputs": [],
   "source": [
    "v = \"maziya\""
   ]
  },
  {
   "cell_type": "code",
   "execution_count": 42,
   "id": "4be46b0d",
   "metadata": {},
   "outputs": [
    {
     "data": {
      "text/plain": [
       "1"
      ]
     },
     "execution_count": 42,
     "metadata": {},
     "output_type": "execute_result"
    }
   ],
   "source": [
    "v.count('y')"
   ]
  },
  {
   "cell_type": "code",
   "execution_count": 43,
   "id": "b78b3ae3",
   "metadata": {},
   "outputs": [
    {
     "data": {
      "text/plain": [
       "['m', 'ziy', '']"
      ]
     },
     "execution_count": 43,
     "metadata": {},
     "output_type": "execute_result"
    }
   ],
   "source": [
    "v.split('a')"
   ]
  },
  {
   "cell_type": "code",
   "execution_count": 44,
   "id": "350820b0",
   "metadata": {},
   "outputs": [
    {
     "data": {
      "text/plain": [
       "['s', 'dhansh', '']"
      ]
     },
     "execution_count": 44,
     "metadata": {},
     "output_type": "execute_result"
    }
   ],
   "source": [
    "s.split('u')"
   ]
  },
  {
   "cell_type": "code",
   "execution_count": 46,
   "id": "2dc3d2d3",
   "metadata": {},
   "outputs": [
    {
     "data": {
      "text/plain": [
       "list"
      ]
     },
     "execution_count": 46,
     "metadata": {},
     "output_type": "execute_result"
    }
   ],
   "source": [
    "type(s.split('u'))"
   ]
  },
  {
   "cell_type": "code",
   "execution_count": 55,
   "id": "a68ab94a",
   "metadata": {},
   "outputs": [],
   "source": [
    "sw =\"\"\"The most important structural element of a story is the lead (also intro or lede in journalism jargon), including the story's first, or leading, sentence or two, which almost always form its own paragraph. The spelling lede (/ˈliːd/, from Early Modern English) is also used in American English, originally to avoid confusion with the printing press type formerly made from the metal lead or the related typographical term \"leading\" \"\"\"[6]\n",
    "\n"
   ]
  },
  {
   "cell_type": "code",
   "execution_count": 57,
   "id": "f897fdb0",
   "metadata": {},
   "outputs": [
    {
     "data": {
      "text/plain": [
       "'s'"
      ]
     },
     "execution_count": 57,
     "metadata": {},
     "output_type": "execute_result"
    }
   ],
   "source": [
    "sw"
   ]
  },
  {
   "cell_type": "code",
   "execution_count": 60,
   "id": "5606c483",
   "metadata": {},
   "outputs": [],
   "source": [
    "g = \"\"\"Charney states that \"an effective lead is a 'brief, sharp statement of the story's essential facts.'\"[7][full citation needed][clarification needed] The lead is usually the first sentence, or in some cases the first two sentences, and is ideally 20–25 words in length. A lead must balance the ideal of maximum information conveyed with the constraint of the unreadability of a long sentence. This makes writing a lead an optimization problem, in which the goal is to articulate the most encompassing and interesting statement that a writer can make in one sentence, given the material with which he or she has to work. While a rule of thumb says the lead should answer most or all of the five Ws, few leads can fit all of these.\"\"\"\n",
    "\n"
   ]
  },
  {
   "cell_type": "code",
   "execution_count": 61,
   "id": "07aaf68e",
   "metadata": {},
   "outputs": [
    {
     "data": {
      "text/plain": [
       "'Charney states that \"an effective lead is a \\'brief, sharp statement of the story\\'s essential facts.\\'\"[7][full citation needed][clarification needed] The lead is usually the first sentence, or in some cases the first two sentences, and is ideally 20–25 words in length. A lead must balance the ideal of maximum information conveyed with the constraint of the unreadability of a long sentence. This makes writing a lead an optimization problem, in which the goal is to articulate the most encompassing and interesting statement that a writer can make in one sentence, given the material with which he or she has to work. While a rule of thumb says the lead should answer most or all of the five Ws, few leads can fit all of these.'"
      ]
     },
     "execution_count": 61,
     "metadata": {},
     "output_type": "execute_result"
    }
   ],
   "source": [
    "g"
   ]
  },
  {
   "cell_type": "code",
   "execution_count": 63,
   "id": "cc1276ab",
   "metadata": {},
   "outputs": [
    {
     "data": {
      "text/plain": [
       "['Charney',\n",
       " 'states',\n",
       " 'that',\n",
       " '\"an',\n",
       " 'effective',\n",
       " 'lead',\n",
       " 'is',\n",
       " 'a',\n",
       " \"'brief,\",\n",
       " 'sharp',\n",
       " 'statement',\n",
       " 'of',\n",
       " 'the',\n",
       " \"story's\",\n",
       " 'essential',\n",
       " 'facts.\\'\"[7][full',\n",
       " 'citation',\n",
       " 'needed][clarification',\n",
       " 'needed]',\n",
       " 'The',\n",
       " 'lead',\n",
       " 'is',\n",
       " 'usually',\n",
       " 'the',\n",
       " 'first',\n",
       " 'sentence,',\n",
       " 'or',\n",
       " 'in',\n",
       " 'some',\n",
       " 'cases',\n",
       " 'the',\n",
       " 'first',\n",
       " 'two',\n",
       " 'sentences,',\n",
       " 'and',\n",
       " 'is',\n",
       " 'ideally',\n",
       " '20–25',\n",
       " 'words',\n",
       " 'in',\n",
       " 'length.',\n",
       " 'A',\n",
       " 'lead',\n",
       " 'must',\n",
       " 'balance',\n",
       " 'the',\n",
       " 'ideal',\n",
       " 'of',\n",
       " 'maximum',\n",
       " 'information',\n",
       " 'conveyed',\n",
       " 'with',\n",
       " 'the',\n",
       " 'constraint',\n",
       " 'of',\n",
       " 'the',\n",
       " 'unreadability',\n",
       " 'of',\n",
       " 'a',\n",
       " 'long',\n",
       " 'sentence.',\n",
       " 'This',\n",
       " 'makes',\n",
       " 'writing',\n",
       " 'a',\n",
       " 'lead',\n",
       " 'an',\n",
       " 'optimization',\n",
       " 'problem,',\n",
       " 'in',\n",
       " 'which',\n",
       " 'the',\n",
       " 'goal',\n",
       " 'is',\n",
       " 'to',\n",
       " 'articulate',\n",
       " 'the',\n",
       " 'most',\n",
       " 'encompassing',\n",
       " 'and',\n",
       " 'interesting',\n",
       " 'statement',\n",
       " 'that',\n",
       " 'a',\n",
       " 'writer',\n",
       " 'can',\n",
       " 'make',\n",
       " 'in',\n",
       " 'one',\n",
       " 'sentence,',\n",
       " 'given',\n",
       " 'the',\n",
       " 'material',\n",
       " 'with',\n",
       " 'which',\n",
       " 'he',\n",
       " 'or',\n",
       " 'she',\n",
       " 'has',\n",
       " 'to',\n",
       " 'work.',\n",
       " 'While',\n",
       " 'a',\n",
       " 'rule',\n",
       " 'of',\n",
       " 'thumb',\n",
       " 'says',\n",
       " 'the',\n",
       " 'lead',\n",
       " 'should',\n",
       " 'answer',\n",
       " 'most',\n",
       " 'or',\n",
       " 'all',\n",
       " 'of',\n",
       " 'the',\n",
       " 'five',\n",
       " 'Ws,',\n",
       " 'few',\n",
       " 'leads',\n",
       " 'can',\n",
       " 'fit',\n",
       " 'all',\n",
       " 'of',\n",
       " 'these.']"
      ]
     },
     "execution_count": 63,
     "metadata": {},
     "output_type": "execute_result"
    }
   ],
   "source": [
    "g.split(\" \")"
   ]
  },
  {
   "cell_type": "code",
   "execution_count": 64,
   "id": "9f0046a8",
   "metadata": {},
   "outputs": [
    {
     "data": {
      "text/plain": [
       "'Charney states that \"an effective lead is a \\'brief, sharp statement of the story\\'s essential facts.\\'\"[7][full citation needed][clarification needed] the lead is usually the first sentence, or in some cases the first two sentences, and is ideally 20–25 words in length. a lead must balance the ideal of maximum information conveyed with the constraint of the unreadability of a long sentence. this makes writing a lead an optimization problem, in which the goal is to articulate the most encompassing and interesting statement that a writer can make in one sentence, given the material with which he or she has to work. while a rule of thumb says the lead should answer most or all of the five ws, few leads can fit all of these.'"
      ]
     },
     "execution_count": 64,
     "metadata": {},
     "output_type": "execute_result"
    }
   ],
   "source": [
    "g.capitalize()"
   ]
  },
  {
   "cell_type": "code",
   "execution_count": 65,
   "id": "a2534e50",
   "metadata": {},
   "outputs": [
    {
     "data": {
      "text/plain": [
       "'charney states that \"an effective lead is a \\'brief, sharp statement of the story\\'s essential facts.\\'\"[7][full citation needed][clarification needed] the lead is usually the first sentence, or in some cases the first two sentences, and is ideally 20–25 words in length. a lead must balance the ideal of maximum information conveyed with the constraint of the unreadability of a long sentence. this makes writing a lead an optimization problem, in which the goal is to articulate the most encompassing and interesting statement that a writer can make in one sentence, given the material with which he or she has to work. while a rule of thumb says the lead should answer most or all of the five ws, few leads can fit all of these.'"
      ]
     },
     "execution_count": 65,
     "metadata": {},
     "output_type": "execute_result"
    }
   ],
   "source": [
    "g.lower()"
   ]
  },
  {
   "cell_type": "code",
   "execution_count": 66,
   "id": "db510a9e",
   "metadata": {},
   "outputs": [
    {
     "data": {
      "text/plain": [
       "'CHARNEY STATES THAT \"AN EFFECTIVE LEAD IS A \\'BRIEF, SHARP STATEMENT OF THE STORY\\'S ESSENTIAL FACTS.\\'\"[7][FULL CITATION NEEDED][CLARIFICATION NEEDED] THE LEAD IS USUALLY THE FIRST SENTENCE, OR IN SOME CASES THE FIRST TWO SENTENCES, AND IS IDEALLY 20–25 WORDS IN LENGTH. A LEAD MUST BALANCE THE IDEAL OF MAXIMUM INFORMATION CONVEYED WITH THE CONSTRAINT OF THE UNREADABILITY OF A LONG SENTENCE. THIS MAKES WRITING A LEAD AN OPTIMIZATION PROBLEM, IN WHICH THE GOAL IS TO ARTICULATE THE MOST ENCOMPASSING AND INTERESTING STATEMENT THAT A WRITER CAN MAKE IN ONE SENTENCE, GIVEN THE MATERIAL WITH WHICH HE OR SHE HAS TO WORK. WHILE A RULE OF THUMB SAYS THE LEAD SHOULD ANSWER MOST OR ALL OF THE FIVE WS, FEW LEADS CAN FIT ALL OF THESE.'"
      ]
     },
     "execution_count": 66,
     "metadata": {},
     "output_type": "execute_result"
    }
   ],
   "source": [
    "g.upper()"
   ]
  },
  {
   "cell_type": "code",
   "execution_count": 67,
   "id": "50194aad",
   "metadata": {},
   "outputs": [],
   "source": [
    "g = g.upper()"
   ]
  },
  {
   "cell_type": "code",
   "execution_count": 68,
   "id": "13cba0a1",
   "metadata": {},
   "outputs": [
    {
     "data": {
      "text/plain": [
       "'CHARNEY STATES THAT \"AN EFFECTIVE LEAD IS A \\'BRIEF, SHARP STATEMENT OF THE STORY\\'S ESSENTIAL FACTS.\\'\"[7][FULL CITATION NEEDED][CLARIFICATION NEEDED] THE LEAD IS USUALLY THE FIRST SENTENCE, OR IN SOME CASES THE FIRST TWO SENTENCES, AND IS IDEALLY 20–25 WORDS IN LENGTH. A LEAD MUST BALANCE THE IDEAL OF MAXIMUM INFORMATION CONVEYED WITH THE CONSTRAINT OF THE UNREADABILITY OF A LONG SENTENCE. THIS MAKES WRITING A LEAD AN OPTIMIZATION PROBLEM, IN WHICH THE GOAL IS TO ARTICULATE THE MOST ENCOMPASSING AND INTERESTING STATEMENT THAT A WRITER CAN MAKE IN ONE SENTENCE, GIVEN THE MATERIAL WITH WHICH HE OR SHE HAS TO WORK. WHILE A RULE OF THUMB SAYS THE LEAD SHOULD ANSWER MOST OR ALL OF THE FIVE WS, FEW LEADS CAN FIT ALL OF THESE.'"
      ]
     },
     "execution_count": 68,
     "metadata": {},
     "output_type": "execute_result"
    }
   ],
   "source": [
    "g"
   ]
  },
  {
   "cell_type": "code",
   "execution_count": 69,
   "id": "93405d7f",
   "metadata": {},
   "outputs": [],
   "source": [
    "g = g.lower()"
   ]
  },
  {
   "cell_type": "code",
   "execution_count": 70,
   "id": "8a2d1611",
   "metadata": {},
   "outputs": [
    {
     "data": {
      "text/plain": [
       "'charney states that \"an effective lead is a \\'brief, sharp statement of the story\\'s essential facts.\\'\"[7][full citation needed][clarification needed] the lead is usually the first sentence, or in some cases the first two sentences, and is ideally 20–25 words in length. a lead must balance the ideal of maximum information conveyed with the constraint of the unreadability of a long sentence. this makes writing a lead an optimization problem, in which the goal is to articulate the most encompassing and interesting statement that a writer can make in one sentence, given the material with which he or she has to work. while a rule of thumb says the lead should answer most or all of the five ws, few leads can fit all of these.'"
      ]
     },
     "execution_count": 70,
     "metadata": {},
     "output_type": "execute_result"
    }
   ],
   "source": [
    "g"
   ]
  },
  {
   "cell_type": "code",
   "execution_count": 71,
   "id": "35a95388",
   "metadata": {},
   "outputs": [],
   "source": [
    "g = g.capitalize()"
   ]
  },
  {
   "cell_type": "code",
   "execution_count": 72,
   "id": "04fad914",
   "metadata": {},
   "outputs": [
    {
     "data": {
      "text/plain": [
       "'Charney states that \"an effective lead is a \\'brief, sharp statement of the story\\'s essential facts.\\'\"[7][full citation needed][clarification needed] the lead is usually the first sentence, or in some cases the first two sentences, and is ideally 20–25 words in length. a lead must balance the ideal of maximum information conveyed with the constraint of the unreadability of a long sentence. this makes writing a lead an optimization problem, in which the goal is to articulate the most encompassing and interesting statement that a writer can make in one sentence, given the material with which he or she has to work. while a rule of thumb says the lead should answer most or all of the five ws, few leads can fit all of these.'"
      ]
     },
     "execution_count": 72,
     "metadata": {},
     "output_type": "execute_result"
    }
   ],
   "source": [
    "g"
   ]
  },
  {
   "cell_type": "code",
   "execution_count": 73,
   "id": "7721a137",
   "metadata": {},
   "outputs": [
    {
     "data": {
      "text/plain": [
       "'sudhanshu'"
      ]
     },
     "execution_count": 73,
     "metadata": {},
     "output_type": "execute_result"
    }
   ],
   "source": [
    "s"
   ]
  },
  {
   "cell_type": "code",
   "execution_count": 74,
   "id": "606a01b5",
   "metadata": {},
   "outputs": [
    {
     "data": {
      "text/plain": [
       "'Sudhanshu'"
      ]
     },
     "execution_count": 74,
     "metadata": {},
     "output_type": "execute_result"
    }
   ],
   "source": [
    "s.title()"
   ]
  },
  {
   "cell_type": "code",
   "execution_count": 75,
   "id": "a7616b84",
   "metadata": {},
   "outputs": [
    {
     "data": {
      "text/plain": [
       "['Ch',\n",
       " 'rney st',\n",
       " 'tes th',\n",
       " 't \"',\n",
       " 'n effective le',\n",
       " 'd is ',\n",
       " \" 'brief, sh\",\n",
       " 'rp st',\n",
       " \"tement of the story's essenti\",\n",
       " 'l f',\n",
       " 'cts.\\'\"[7][full cit',\n",
       " 'tion needed][cl',\n",
       " 'rific',\n",
       " 'tion needed] the le',\n",
       " 'd is usu',\n",
       " 'lly the first sentence, or in some c',\n",
       " 'ses the first two sentences, ',\n",
       " 'nd is ide',\n",
       " 'lly 20–25 words in length. ',\n",
       " ' le',\n",
       " 'd must b',\n",
       " 'l',\n",
       " 'nce the ide',\n",
       " 'l of m',\n",
       " 'ximum inform',\n",
       " 'tion conveyed with the constr',\n",
       " 'int of the unre',\n",
       " 'd',\n",
       " 'bility of ',\n",
       " ' long sentence. this m',\n",
       " 'kes writing ',\n",
       " ' le',\n",
       " 'd ',\n",
       " 'n optimiz',\n",
       " 'tion problem, in which the go',\n",
       " 'l is to ',\n",
       " 'rticul',\n",
       " 'te the most encomp',\n",
       " 'ssing ',\n",
       " 'nd interesting st',\n",
       " 'tement th',\n",
       " 't ',\n",
       " ' writer c',\n",
       " 'n m',\n",
       " 'ke in one sentence, given the m',\n",
       " 'teri',\n",
       " 'l with which he or she h',\n",
       " 's to work. while ',\n",
       " ' rule of thumb s',\n",
       " 'ys the le',\n",
       " 'd should ',\n",
       " 'nswer most or ',\n",
       " 'll of the five ws, few le',\n",
       " 'ds c',\n",
       " 'n fit ',\n",
       " 'll of these.']"
      ]
     },
     "execution_count": 75,
     "metadata": {},
     "output_type": "execute_result"
    }
   ],
   "source": [
    "g.split(\"a\")"
   ]
  },
  {
   "cell_type": "code",
   "execution_count": 76,
   "id": "9276eed1",
   "metadata": {},
   "outputs": [
    {
     "data": {
      "text/plain": [
       "'sudhanshu'"
      ]
     },
     "execution_count": 76,
     "metadata": {},
     "output_type": "execute_result"
    }
   ],
   "source": [
    "s"
   ]
  },
  {
   "cell_type": "code",
   "execution_count": 77,
   "id": "7cb09671",
   "metadata": {},
   "outputs": [
    {
     "data": {
      "text/plain": [
       "'Sudhanshu'"
      ]
     },
     "execution_count": 77,
     "metadata": {},
     "output_type": "execute_result"
    }
   ],
   "source": [
    "s.title()"
   ]
  },
  {
   "cell_type": "code",
   "execution_count": 78,
   "id": "f4090ce8",
   "metadata": {},
   "outputs": [
    {
     "data": {
      "text/plain": [
       "'Charney States That \"An Effective Lead Is A \\'Brief, Sharp Statement Of The Story\\'S Essential Facts.\\'\"[7][Full Citation Needed][Clarification Needed] The Lead Is Usually The First Sentence, Or In Some Cases The First Two Sentences, And Is Ideally 20–25 Words In Length. A Lead Must Balance The Ideal Of Maximum Information Conveyed With The Constraint Of The Unreadability Of A Long Sentence. This Makes Writing A Lead An Optimization Problem, In Which The Goal Is To Articulate The Most Encompassing And Interesting Statement That A Writer Can Make In One Sentence, Given The Material With Which He Or She Has To Work. While A Rule Of Thumb Says The Lead Should Answer Most Or All Of The Five Ws, Few Leads Can Fit All Of These.'"
      ]
     },
     "execution_count": 78,
     "metadata": {},
     "output_type": "execute_result"
    }
   ],
   "source": [
    "g.title()"
   ]
  },
  {
   "cell_type": "code",
   "execution_count": 79,
   "id": "4117ccfa",
   "metadata": {},
   "outputs": [],
   "source": [
    "h = \"maziya tabassum\""
   ]
  },
  {
   "cell_type": "code",
   "execution_count": 80,
   "id": "10015b99",
   "metadata": {},
   "outputs": [
    {
     "data": {
      "text/plain": [
       "'Maziya tabassum'"
      ]
     },
     "execution_count": 80,
     "metadata": {},
     "output_type": "execute_result"
    }
   ],
   "source": [
    "h.capitalize()"
   ]
  },
  {
   "cell_type": "code",
   "execution_count": 81,
   "id": "cdfa4848",
   "metadata": {},
   "outputs": [
    {
     "data": {
      "text/plain": [
       "'Maziya Tabassum'"
      ]
     },
     "execution_count": 81,
     "metadata": {},
     "output_type": "execute_result"
    }
   ],
   "source": [
    "h.title()"
   ]
  },
  {
   "cell_type": "code",
   "execution_count": 82,
   "id": "831a5d71",
   "metadata": {},
   "outputs": [],
   "source": [
    "t = \"maziya taBASSSum\""
   ]
  },
  {
   "cell_type": "code",
   "execution_count": 83,
   "id": "93e18f39",
   "metadata": {},
   "outputs": [
    {
     "data": {
      "text/plain": [
       "'MAZIYA TAbasssUM'"
      ]
     },
     "execution_count": 83,
     "metadata": {},
     "output_type": "execute_result"
    }
   ],
   "source": [
    "t.swapcase()"
   ]
  },
  {
   "cell_type": "code",
   "execution_count": 85,
   "id": "f7f56617",
   "metadata": {},
   "outputs": [
    {
     "data": {
      "text/plain": [
       "'muSSSABat ayizam'"
      ]
     },
     "execution_count": 85,
     "metadata": {},
     "output_type": "execute_result"
    }
   ],
   "source": [
    "t[::-1]"
   ]
  },
  {
   "cell_type": "code",
   "execution_count": 89,
   "id": "534a508b",
   "metadata": {},
   "outputs": [
    {
     "data": {
      "text/plain": [
       "'muSSSABat ayizam'"
      ]
     },
     "execution_count": 89,
     "metadata": {},
     "output_type": "execute_result"
    }
   ],
   "source": [
    "''.join(reversed(t))"
   ]
  },
  {
   "cell_type": "code",
   "execution_count": 91,
   "id": "259c5693",
   "metadata": {},
   "outputs": [],
   "source": [
    "t = '     maziya    '"
   ]
  },
  {
   "cell_type": "code",
   "execution_count": 93,
   "id": "a2731c53",
   "metadata": {},
   "outputs": [
    {
     "data": {
      "text/plain": [
       "'maziya'"
      ]
     },
     "execution_count": 93,
     "metadata": {},
     "output_type": "execute_result"
    }
   ],
   "source": [
    "t.strip()"
   ]
  },
  {
   "cell_type": "code",
   "execution_count": 94,
   "id": "ce53269d",
   "metadata": {},
   "outputs": [],
   "source": [
    "t = '    ma ziya    '"
   ]
  },
  {
   "cell_type": "code",
   "execution_count": 95,
   "id": "c4115eae",
   "metadata": {},
   "outputs": [
    {
     "data": {
      "text/plain": [
       "'ma ziya'"
      ]
     },
     "execution_count": 95,
     "metadata": {},
     "output_type": "execute_result"
    }
   ],
   "source": [
    "t.strip()"
   ]
  },
  {
   "cell_type": "code",
   "execution_count": 96,
   "id": "3df578ba",
   "metadata": {},
   "outputs": [
    {
     "data": {
      "text/plain": [
       "'    ma ziya    '"
      ]
     },
     "execution_count": 96,
     "metadata": {},
     "output_type": "execute_result"
    }
   ],
   "source": [
    "t"
   ]
  },
  {
   "cell_type": "code",
   "execution_count": 98,
   "id": "bb7ff559",
   "metadata": {},
   "outputs": [
    {
     "data": {
      "text/plain": [
       "'ma ziya    '"
      ]
     },
     "execution_count": 98,
     "metadata": {},
     "output_type": "execute_result"
    }
   ],
   "source": [
    "t.lstrip()"
   ]
  },
  {
   "cell_type": "code",
   "execution_count": 100,
   "id": "85e321af",
   "metadata": {},
   "outputs": [
    {
     "data": {
      "text/plain": [
       "'    ma ziya'"
      ]
     },
     "execution_count": 100,
     "metadata": {},
     "output_type": "execute_result"
    }
   ],
   "source": [
    "t.rstrip()"
   ]
  },
  {
   "cell_type": "code",
   "execution_count": 102,
   "id": "9286ae10",
   "metadata": {},
   "outputs": [
    {
     "data": {
      "text/plain": [
       "'m     a     z     i     y     a'"
      ]
     },
     "execution_count": 102,
     "metadata": {},
     "output_type": "execute_result"
    }
   ],
   "source": [
    "\"     \" .join(\"maziya\")"
   ]
  },
  {
   "cell_type": "code",
   "execution_count": 103,
   "id": "037277cd",
   "metadata": {},
   "outputs": [
    {
     "data": {
      "text/plain": [
       "'maaazaiayaa'"
      ]
     },
     "execution_count": 103,
     "metadata": {},
     "output_type": "execute_result"
    }
   ],
   "source": [
    "\"a\" . join(\"maziya\")"
   ]
  },
  {
   "cell_type": "code",
   "execution_count": 105,
   "id": "6e12f4ee",
   "metadata": {},
   "outputs": [
    {
     "data": {
      "text/plain": [
       "'      ma ziya       '"
      ]
     },
     "execution_count": 105,
     "metadata": {},
     "output_type": "execute_result"
    }
   ],
   "source": [
    "t.center(20)"
   ]
  },
  {
   "cell_type": "code",
   "execution_count": 106,
   "id": "e366bcde",
   "metadata": {},
   "outputs": [],
   "source": [
    "z = \"zainab\""
   ]
  },
  {
   "cell_type": "code",
   "execution_count": 108,
   "id": "2d1484be",
   "metadata": {},
   "outputs": [
    {
     "data": {
      "text/plain": [
       "'            zainab            '"
      ]
     },
     "execution_count": 108,
     "metadata": {},
     "output_type": "execute_result"
    }
   ],
   "source": [
    "z.center(30)"
   ]
  },
  {
   "cell_type": "code",
   "execution_count": 110,
   "id": "6ea5d9c7",
   "metadata": {},
   "outputs": [
    {
     "data": {
      "text/plain": [
       "'############zainab############'"
      ]
     },
     "execution_count": 110,
     "metadata": {},
     "output_type": "execute_result"
    }
   ],
   "source": [
    "z.center(30, \"#\")"
   ]
  },
  {
   "cell_type": "code",
   "execution_count": 111,
   "id": "742704b4",
   "metadata": {},
   "outputs": [
    {
     "data": {
      "text/plain": [
       "'*****************zainab*****************'"
      ]
     },
     "execution_count": 111,
     "metadata": {},
     "output_type": "execute_result"
    }
   ],
   "source": [
    "z.center(40, '*')"
   ]
  },
  {
   "cell_type": "code",
   "execution_count": 114,
   "id": "e633b6f7",
   "metadata": {},
   "outputs": [
    {
     "data": {
      "text/plain": [
       "'9999999zainab9999999'"
      ]
     },
     "execution_count": 114,
     "metadata": {},
     "output_type": "execute_result"
    }
   ],
   "source": [
    "z.center(20, '9')"
   ]
  },
  {
   "cell_type": "code",
   "execution_count": 115,
   "id": "c529718e",
   "metadata": {},
   "outputs": [],
   "source": [
    "t = \"maziya\""
   ]
  },
  {
   "cell_type": "code",
   "execution_count": 116,
   "id": "d9b47fef",
   "metadata": {},
   "outputs": [
    {
     "data": {
      "text/plain": [
       "'maziya'"
      ]
     },
     "execution_count": 116,
     "metadata": {},
     "output_type": "execute_result"
    }
   ],
   "source": [
    "t"
   ]
  },
  {
   "cell_type": "code",
   "execution_count": 118,
   "id": "0ba82b85",
   "metadata": {},
   "outputs": [
    {
     "data": {
      "text/plain": [
       "False"
      ]
     },
     "execution_count": 118,
     "metadata": {},
     "output_type": "execute_result"
    }
   ],
   "source": [
    "t.isupper()"
   ]
  },
  {
   "cell_type": "code",
   "execution_count": 119,
   "id": "2c6c71f7",
   "metadata": {},
   "outputs": [
    {
     "data": {
      "text/plain": [
       "True"
      ]
     },
     "execution_count": 119,
     "metadata": {},
     "output_type": "execute_result"
    }
   ],
   "source": [
    "t.islower()"
   ]
  },
  {
   "cell_type": "code",
   "execution_count": 121,
   "id": "187124a3",
   "metadata": {},
   "outputs": [
    {
     "data": {
      "text/plain": [
       "False"
      ]
     },
     "execution_count": 121,
     "metadata": {},
     "output_type": "execute_result"
    }
   ],
   "source": [
    "t.isspace()"
   ]
  },
  {
   "cell_type": "code",
   "execution_count": 122,
   "id": "05b3fd00",
   "metadata": {},
   "outputs": [
    {
     "data": {
      "text/plain": [
       "True"
      ]
     },
     "execution_count": 122,
     "metadata": {},
     "output_type": "execute_result"
    }
   ],
   "source": [
    "t.isalnum()"
   ]
  },
  {
   "cell_type": "code",
   "execution_count": 123,
   "id": "b249c08b",
   "metadata": {},
   "outputs": [
    {
     "data": {
      "text/plain": [
       "False"
      ]
     },
     "execution_count": 123,
     "metadata": {},
     "output_type": "execute_result"
    }
   ],
   "source": [
    "t.isdigit()"
   ]
  },
  {
   "cell_type": "code",
   "execution_count": 124,
   "id": "6da3ff11",
   "metadata": {},
   "outputs": [],
   "source": [
    "t2 = \"u4584u8\""
   ]
  },
  {
   "cell_type": "code",
   "execution_count": 125,
   "id": "9d184949",
   "metadata": {},
   "outputs": [
    {
     "data": {
      "text/plain": [
       "False"
      ]
     },
     "execution_count": 125,
     "metadata": {},
     "output_type": "execute_result"
    }
   ],
   "source": [
    "t2.isdigit()"
   ]
  },
  {
   "cell_type": "code",
   "execution_count": 126,
   "id": "9951bbad",
   "metadata": {},
   "outputs": [],
   "source": [
    "t3 = \"843878\""
   ]
  },
  {
   "cell_type": "code",
   "execution_count": 127,
   "id": "35b7aec7",
   "metadata": {},
   "outputs": [
    {
     "data": {
      "text/plain": [
       "True"
      ]
     },
     "execution_count": 127,
     "metadata": {},
     "output_type": "execute_result"
    }
   ],
   "source": [
    "t3.isdigit()"
   ]
  },
  {
   "cell_type": "code",
   "execution_count": 128,
   "id": "35d0314f",
   "metadata": {},
   "outputs": [
    {
     "data": {
      "text/plain": [
       "True"
      ]
     },
     "execution_count": 128,
     "metadata": {},
     "output_type": "execute_result"
    }
   ],
   "source": [
    "t.isalpha()"
   ]
  },
  {
   "cell_type": "code",
   "execution_count": 129,
   "id": "c264fa02",
   "metadata": {},
   "outputs": [],
   "source": [
    "u = \"84y3htngdncn\""
   ]
  },
  {
   "cell_type": "code",
   "execution_count": 131,
   "id": "8188d4de",
   "metadata": {},
   "outputs": [
    {
     "data": {
      "text/plain": [
       "False"
      ]
     },
     "execution_count": 131,
     "metadata": {},
     "output_type": "execute_result"
    }
   ],
   "source": [
    "u.isalpha()"
   ]
  },
  {
   "cell_type": "code",
   "execution_count": 133,
   "id": "a633f80c",
   "metadata": {},
   "outputs": [
    {
     "data": {
      "text/plain": [
       "False"
      ]
     },
     "execution_count": 133,
     "metadata": {},
     "output_type": "execute_result"
    }
   ],
   "source": [
    "u.isalnum()"
   ]
  },
  {
   "cell_type": "code",
   "execution_count": 135,
   "id": "b5272bd1",
   "metadata": {},
   "outputs": [
    {
     "data": {
      "text/plain": [
       "False"
      ]
     },
     "execution_count": 135,
     "metadata": {},
     "output_type": "execute_result"
    }
   ],
   "source": [
    "t.startswith(\"i\")"
   ]
  },
  {
   "cell_type": "code",
   "execution_count": 136,
   "id": "25b859a1",
   "metadata": {},
   "outputs": [
    {
     "data": {
      "text/plain": [
       "'maziya'"
      ]
     },
     "execution_count": 136,
     "metadata": {},
     "output_type": "execute_result"
    }
   ],
   "source": [
    "t"
   ]
  },
  {
   "cell_type": "code",
   "execution_count": 137,
   "id": "875c496f",
   "metadata": {},
   "outputs": [
    {
     "data": {
      "text/plain": [
       "'maziy'"
      ]
     },
     "execution_count": 137,
     "metadata": {},
     "output_type": "execute_result"
    }
   ],
   "source": [
    "t.strip(\"a\")"
   ]
  },
  {
   "cell_type": "code",
   "execution_count": 138,
   "id": "dae288d7",
   "metadata": {},
   "outputs": [
    {
     "data": {
      "text/plain": [
       "True"
      ]
     },
     "execution_count": 138,
     "metadata": {},
     "output_type": "execute_result"
    }
   ],
   "source": [
    "t.startswith('m')"
   ]
  },
  {
   "cell_type": "code",
   "execution_count": 140,
   "id": "904fd951",
   "metadata": {},
   "outputs": [
    {
     "data": {
      "text/plain": [
       "True"
      ]
     },
     "execution_count": 140,
     "metadata": {},
     "output_type": "execute_result"
    }
   ],
   "source": [
    "t.endswith(\"a\")"
   ]
  },
  {
   "cell_type": "code",
   "execution_count": 141,
   "id": "82f5f7d4",
   "metadata": {},
   "outputs": [],
   "source": [
    "y = \"356463jhvhjf\""
   ]
  },
  {
   "cell_type": "code",
   "execution_count": 142,
   "id": "3b1efa2b",
   "metadata": {},
   "outputs": [
    {
     "data": {
      "text/plain": [
       "True"
      ]
     },
     "execution_count": 142,
     "metadata": {},
     "output_type": "execute_result"
    }
   ],
   "source": [
    "y.isalnum()"
   ]
  },
  {
   "cell_type": "code",
   "execution_count": 143,
   "id": "ace0c377",
   "metadata": {},
   "outputs": [
    {
     "data": {
      "text/plain": [
       "'maziya'"
      ]
     },
     "execution_count": 143,
     "metadata": {},
     "output_type": "execute_result"
    }
   ],
   "source": [
    "t"
   ]
  },
  {
   "cell_type": "code",
   "execution_count": 144,
   "id": "c185842d",
   "metadata": {},
   "outputs": [
    {
     "data": {
      "text/plain": [
       "False"
      ]
     },
     "execution_count": 144,
     "metadata": {},
     "output_type": "execute_result"
    }
   ],
   "source": [
    "t.isnumeric()"
   ]
  },
  {
   "cell_type": "code",
   "execution_count": 147,
   "id": "da0a876e",
   "metadata": {},
   "outputs": [
    {
     "data": {
      "text/plain": [
       "False"
      ]
     },
     "execution_count": 147,
     "metadata": {},
     "output_type": "execute_result"
    }
   ],
   "source": [
    "t.isdigit()"
   ]
  },
  {
   "cell_type": "code",
   "execution_count": 148,
   "id": "5b3d561d",
   "metadata": {},
   "outputs": [
    {
     "data": {
      "text/plain": [
       "False"
      ]
     },
     "execution_count": 148,
     "metadata": {},
     "output_type": "execute_result"
    }
   ],
   "source": [
    "t.startswith(\" \")"
   ]
  },
  {
   "cell_type": "code",
   "execution_count": 149,
   "id": "63b1f67a",
   "metadata": {},
   "outputs": [
    {
     "data": {
      "text/plain": [
       "True"
      ]
     },
     "execution_count": 149,
     "metadata": {},
     "output_type": "execute_result"
    }
   ],
   "source": [
    "t.startswith(\"\")"
   ]
  },
  {
   "cell_type": "code",
   "execution_count": 150,
   "id": "adcd4062",
   "metadata": {},
   "outputs": [
    {
     "data": {
      "text/plain": [
       "True"
      ]
     },
     "execution_count": 150,
     "metadata": {},
     "output_type": "execute_result"
    }
   ],
   "source": [
    "t.isascii()"
   ]
  },
  {
   "cell_type": "code",
   "execution_count": 152,
   "id": "055890c8",
   "metadata": {},
   "outputs": [],
   "source": [
    "o = \"854389jgh\""
   ]
  },
  {
   "cell_type": "code",
   "execution_count": 153,
   "id": "0ab8094c",
   "metadata": {},
   "outputs": [
    {
     "data": {
      "text/plain": [
       "True"
      ]
     },
     "execution_count": 153,
     "metadata": {},
     "output_type": "execute_result"
    }
   ],
   "source": [
    "o.isascii()"
   ]
  },
  {
   "cell_type": "code",
   "execution_count": 154,
   "id": "986f6fdc",
   "metadata": {},
   "outputs": [],
   "source": [
    "c = \"   ma ziya   \""
   ]
  },
  {
   "cell_type": "code",
   "execution_count": 156,
   "id": "10417c7e",
   "metadata": {},
   "outputs": [
    {
     "data": {
      "text/plain": [
       "False"
      ]
     },
     "execution_count": 156,
     "metadata": {},
     "output_type": "execute_result"
    }
   ],
   "source": [
    "c.isspace()"
   ]
  },
  {
   "cell_type": "code",
   "execution_count": 157,
   "id": "d17e4193",
   "metadata": {},
   "outputs": [],
   "source": [
    "c = \" maziya \""
   ]
  },
  {
   "cell_type": "code",
   "execution_count": 158,
   "id": "720f6314",
   "metadata": {},
   "outputs": [
    {
     "data": {
      "text/plain": [
       "False"
      ]
     },
     "execution_count": 158,
     "metadata": {},
     "output_type": "execute_result"
    }
   ],
   "source": [
    "c.isspace()"
   ]
  },
  {
   "cell_type": "code",
   "execution_count": 159,
   "id": "80c93f62",
   "metadata": {},
   "outputs": [],
   "source": [
    "c = \"   \""
   ]
  },
  {
   "cell_type": "code",
   "execution_count": 160,
   "id": "22f19ef3",
   "metadata": {},
   "outputs": [
    {
     "data": {
      "text/plain": [
       "True"
      ]
     },
     "execution_count": 160,
     "metadata": {},
     "output_type": "execute_result"
    }
   ],
   "source": [
    "c.isspace()"
   ]
  },
  {
   "cell_type": "code",
   "execution_count": 161,
   "id": "cbbca60d",
   "metadata": {},
   "outputs": [
    {
     "data": {
      "text/plain": [
       "'sudhanshu'"
      ]
     },
     "execution_count": 161,
     "metadata": {},
     "output_type": "execute_result"
    }
   ],
   "source": [
    "s"
   ]
  },
  {
   "cell_type": "code",
   "execution_count": 166,
   "id": "dd385b2d",
   "metadata": {},
   "outputs": [
    {
     "data": {
      "text/plain": [
       "'uhsnahdus'"
      ]
     },
     "execution_count": 166,
     "metadata": {},
     "output_type": "execute_result"
    }
   ],
   "source": [
    "\"\".join(reversed(s))"
   ]
  },
  {
   "cell_type": "code",
   "execution_count": 172,
   "id": "d2b84436",
   "metadata": {},
   "outputs": [],
   "source": [
    "f = \"maziya\\ttabaasum\""
   ]
  },
  {
   "cell_type": "code",
   "execution_count": 173,
   "id": "72aba233",
   "metadata": {},
   "outputs": [
    {
     "data": {
      "text/plain": [
       "'maziya\\ttabaasum'"
      ]
     },
     "execution_count": 173,
     "metadata": {},
     "output_type": "execute_result"
    }
   ],
   "source": [
    "f"
   ]
  },
  {
   "cell_type": "code",
   "execution_count": 174,
   "id": "0f559d1e",
   "metadata": {},
   "outputs": [
    {
     "data": {
      "text/plain": [
       "'maziya  tabaasum'"
      ]
     },
     "execution_count": 174,
     "metadata": {},
     "output_type": "execute_result"
    }
   ],
   "source": [
    "f.expandtabs()"
   ]
  }
 ],
 "metadata": {
  "kernelspec": {
   "display_name": "Python 3 (ipykernel)",
   "language": "python",
   "name": "python3"
  },
  "language_info": {
   "codemirror_mode": {
    "name": "ipython",
    "version": 3
   },
   "file_extension": ".py",
   "mimetype": "text/x-python",
   "name": "python",
   "nbconvert_exporter": "python",
   "pygments_lexer": "ipython3",
   "version": "3.9.7"
  }
 },
 "nbformat": 4,
 "nbformat_minor": 5
}
